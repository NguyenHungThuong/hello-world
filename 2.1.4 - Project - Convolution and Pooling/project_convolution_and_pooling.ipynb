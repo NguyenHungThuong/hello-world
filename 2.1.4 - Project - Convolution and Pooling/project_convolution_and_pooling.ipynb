{
  "nbformat": 4,
  "nbformat_minor": 0,
  "metadata": {
    "colab": {
      "name": "project-convolution-and-pooling.ipynb",
      "provenance": [],
      "collapsed_sections": []
    },
    "kernelspec": {
      "name": "python3",
      "display_name": "Python 3"
    },
    "language_info": {
      "name": "python"
    }
  },
  "cells": [
    {
      "cell_type": "markdown",
      "metadata": {
        "id": "7UpxgYfOmzh9"
      },
      "source": [
        "# Project: Convolution and Pooling\n",
        "\n",
        "[![Open In Colab <](https://colab.research.google.com/assets/colab-badge.svg)](https://colab.research.google.com/github/ShawnHymel/computer-vision-with-embedded-machine-learning/blob/master/2.1.4%20-%20Project%20-%20Convolution%20and%20Pooling/project_convolution_and_pooling.ipynb)\n",
        "\n",
        "Create a convolution filter to filter an image. Then, create a pooling function.\n",
        "\n",
        "Run each of the cells paying attention to their contents and output. Fill out the necessary parts of the functions where you find the following comment:\n",
        "\n",
        "```\n",
        "# >>> ENTER YOUR CODE HERE <<<\n",
        "```\n",
        "\n",
        "Note that you may not use libraries other than those listed in the first cell to perform convolution and pooling.\n",
        "\n",
        "You can see what the output images are supposed to look like [here](https://github.com/ShawnHymel/computer-vision-with-embedded-machine-learning/raw/master/2.1.4%20-%20Project%20-%20Convolution%20and%20Pooling/output-images.png).\n",
        "\n",
        "If you get stuck or would like to compare answers, you can find [my solution here](https://colab.research.google.com/github/ShawnHymel/computer-vision-with-embedded-machine-learning/blob/master/2.1.4%20-%20Project%20-%20Convolution%20and%20Pooling/solution_convolution_and_pooling.ipynb).\n",
        "\n",
        "Author: EdgeImpulse, Inc.<br>\n",
        "Date: August 2, 2021<br>\n",
        "License: [Apache-2.0](apache.org/licenses/LICENSE-2.0)<br>"
      ]
    },
    {
      "cell_type": "code",
      "metadata": {
        "id": "n2_hUewhmyTm"
      },
      "source": [
        "### Import libraries\n",
        "\n",
        "import os\n",
        "import PIL\n",
        "import requests\n",
        "import math\n",
        "\n",
        "import numpy as np\n",
        "import matplotlib.pyplot as plt"
      ],
      "execution_count": 1,
      "outputs": []
    },
    {
      "cell_type": "code",
      "metadata": {
        "id": "rnfkQvNYxHCM"
      },
      "source": [
        "### Download example image\n",
        "\n",
        "# Image location and path\n",
        "url = \"https://github.com/ShawnHymel/computer-vision-with-embedded-machine-learning/raw/master/2.1.4%20-%20Project%20-%20Convolution%20and%20Pooling/resistor.png\"\n",
        "img_path = os.path.join(\"/content\", \"resistor.png\")\n",
        "\n",
        "# Download image\n",
        "resp = requests.get(url)\n",
        "\n",
        "# Write image to file\n",
        "with open(img_path, 'wb') as f:\n",
        "  f.write(resp.content)"
      ],
      "execution_count": 2,
      "outputs": []
    },
    {
      "cell_type": "code",
      "metadata": {
        "id": "dBV7wfOky1XY",
        "outputId": "592fbac8-6c86-42a5-d39d-579ae1f6295f",
        "colab": {
          "base_uri": "https://localhost:8080/",
          "height": 302
        }
      },
      "source": [
        "### Open and view image\n",
        "\n",
        "# Use PIL to open the image and convert it to grayscale\n",
        "img = PIL.Image.open(img_path)\n",
        "img = img.convert('L')\n",
        "\n",
        "# Convert image to Numpy array\n",
        "img = np.asarray(img)\n",
        "\n",
        "# Show dimensions and view array as image\n",
        "print(img.shape)\n",
        "plt.imshow(img, cmap='gray', vmin=0, vmax=255)"
      ],
      "execution_count": 3,
      "outputs": [
        {
          "output_type": "stream",
          "name": "stdout",
          "text": [
            "(28, 28)\n"
          ]
        },
        {
          "output_type": "execute_result",
          "data": {
            "text/plain": [
              "<matplotlib.image.AxesImage at 0x7f4d442b3dd0>"
            ]
          },
          "metadata": {},
          "execution_count": 3
        },
        {
          "output_type": "display_data",
          "data": {
            "image/png": "[encoded data removed]",
            "text/plain": [
              "<Figure size 432x288 with 1 Axes>"
            ]
          },
          "metadata": {
            "needs_background": "light"
          }
        }
      ]
    },
    {
      "cell_type": "markdown",
      "metadata": {
        "id": "s97lc17wzo0G"
      },
      "source": [
        "## Part 1: Convolution\n",
        "\n",
        "Your assignment is to write a function that convolves the image array (stored in the `img` variable) with a given kernel and stride. Assume valid padding (e.g. no padding). Note that the kernel will be given as a 2D Numpy array.\n",
        "\n",
        "You are welcome to use for loops in this exercise, as it helps to see what's going on in the convolution operation. Bonus points if you do it without for loops (caveat: bonus points don't mean anything in this course).\n",
        "\n",
        "You may find some of the following Numpy operations to be helpful:\n",
        "\n",
        "* [numpy.arange()](https://numpy.org/doc/stable/reference/generated/numpy.arange.html)\n"
      ]
    },
    {
      "cell_type": "code",
      "metadata": {
        "id": "0FDjgm5pzZOg"
      },
      "source": [
        "### Convolution function\n",
        "\n",
        "def convolve(img, kernel, stride):\n",
        "\n",
        "  # Compute dimensions of output image\n",
        "  out_height = math.floor((img.shape[0] - kernel.shape[0]) / stride) + 1\n",
        "  out_width = math.floor((img.shape[1] - kernel.shape[1]) / stride) + 1\n",
        "  \n",
        "  # Create blank output image\n",
        "  convolved_img = np.zeros((out_height, out_width))\n",
        "\n",
        "  # >>> ENTER YOUR CODE HERE <<<\n",
        "  \n",
        "\n",
        "  # Round all elements, convert to integers, and clamp to values between 0 and 255\n",
        "  convolved_img = np.rint(convolved_img).astype(int)\n",
        "  convolved_img = np.clip(convolved_img, 0, 255)\n",
        "\n",
        "  return convolved_img"
      ],
      "execution_count": 4,
      "outputs": []
    },
    {
      "cell_type": "code",
      "metadata": {
        "id": "IeLJ2y9h0bVH",
        "outputId": "12a6d4b0-7bc3-4744-871b-b1dcd9533f91",
        "colab": {
          "base_uri": "https://localhost:8080/",
          "height": 302
        }
      },
      "source": [
        "### Test 1: Gaussian blur filter\n",
        "\n",
        "# Define kernel\n",
        "kernel = np.array([[1/16, 2/16, 1/16],\n",
        "                   [2/16, 4/16, 2/16],\n",
        "                   [1/16, 2/16, 1/16]])\n",
        "\n",
        "# Call your convolve function (with a stride of 1)\n",
        "out_img = convolve(img, kernel, 1)\n",
        "\n",
        "# Show dimensions and view array as image\n",
        "print(out_img.shape)\n",
        "plt.imshow(out_img, cmap='gray', vmin=0, vmax=255)"
      ],
      "execution_count": 5,
      "outputs": [
        {
          "output_type": "stream",
          "name": "stdout",
          "text": [
            "(26, 26)\n"
          ]
        },
        {
          "output_type": "execute_result",
          "data": {
            "text/plain": [
              "<matplotlib.image.AxesImage at 0x7f4d43daff90>"
            ]
          },
          "metadata": {},
          "execution_count": 5
        },
        {
          "output_type": "display_data",
          "data": {
            "image/png": "[encoded data removed]",
            "text/plain": [
              "<Figure size 432x288 with 1 Axes>"
            ]
          },
          "metadata": {
            "needs_background": "light"
          }
        }
      ]
    },
    {
      "cell_type": "code",
      "metadata": {
        "id": "OU_dTpq229_D",
        "outputId": "0fc5668a-021e-4815-f35a-2eea24d9816f",
        "colab": {
          "base_uri": "https://localhost:8080/",
          "height": 302
        }
      },
      "source": [
        "### Test 2: Edge detection\n",
        "\n",
        "# Define kernel\n",
        "kernel = np.array([[-1, -1, -1],\n",
        "                   [-1, 8, -1],\n",
        "                   [-1, -1, -1]])\n",
        "\n",
        "# Call your convolve function (with a stride of 1)\n",
        "out_img = convolve(img, kernel, 1)\n",
        "\n",
        "# Show dimensions and view array as image\n",
        "print(out_img.shape)\n",
        "plt.imshow(out_img, cmap='gray', vmin=0, vmax=255)"
      ],
      "execution_count": 6,
      "outputs": [
        {
          "output_type": "stream",
          "name": "stdout",
          "text": [
            "(26, 26)\n"
          ]
        },
        {
          "output_type": "execute_result",
          "data": {
            "text/plain": [
              "<matplotlib.image.AxesImage at 0x7f4d43d25950>"
            ]
          },
          "metadata": {},
          "execution_count": 6
        },
        {
          "output_type": "display_data",
          "data": {
            "image/png": "[encoded data removed]",
            "text/plain": [
              "<Figure size 432x288 with 1 Axes>"
            ]
          },
          "metadata": {
            "needs_background": "light"
          }
        }
      ]
    },
    {
      "cell_type": "code",
      "metadata": {
        "id": "NJcZaIPs3Ksh",
        "outputId": "fb22ef94-7eaf-4929-9703-549b412c0cb0",
        "colab": {
          "base_uri": "https://localhost:8080/",
          "height": 302
        }
      },
      "source": [
        "### Test 3: Sharpen with stride > 1\n",
        "\n",
        "# Define kernel\n",
        "kernel = np.array([[0, -1, 0],\n",
        "                   [-1, 5, -1],\n",
        "                   [0, -1, 0]])\n",
        "\n",
        "# Call your convolve function (with a stride of 2)\n",
        "out_img = convolve(img, kernel, 2)\n",
        "\n",
        "# Show dimensions and view array as image\n",
        "print(out_img.shape)\n",
        "plt.imshow(out_img, cmap='gray', vmin=0, vmax=255)"
      ],
      "execution_count": 7,
      "outputs": [
        {
          "output_type": "stream",
          "name": "stdout",
          "text": [
            "(13, 13)\n"
          ]
        },
        {
          "output_type": "execute_result",
          "data": {
            "text/plain": [
              "<matplotlib.image.AxesImage at 0x7f4d43d10e90>"
            ]
          },
          "metadata": {},
          "execution_count": 7
        },
        {
          "output_type": "display_data",
          "data": {
            "image/png": "[encoded data removed]",
            "text/plain": [
              "<Figure size 432x288 with 1 Axes>"
            ]
          },
          "metadata": {
            "needs_background": "light"
          }
        }
      ]
    },
    {
      "cell_type": "markdown",
      "metadata": {
        "id": "MHAcZ4qK5IAK"
      },
      "source": [
        "## Part 2: Pooling\n",
        "\n",
        "Your assignment is to write a function that performs max pooling on the input image array (stored in the `img` variable). Assume valid padding (e.g. no padding). Also, assume that the pool width determines the horizontal stride and the pool height determines the vertical stride.\n",
        "\n",
        "You are welcome to use for loops in this exercise, as it helps to see what's going on in the convolution operation. Bonus points if you do it without for loops (caveat: bonus points don't mean anything in this course).\n",
        "\n",
        "You may find some of the following Numpy operations to be helpful:\n",
        "\n",
        "* [numpy.arange()](https://numpy.org/doc/stable/reference/generated/numpy.arange.html)"
      ]
    },
    {
      "cell_type": "code",
      "metadata": {
        "id": "yBeCY9Bd4o_b"
      },
      "source": [
        "### Convolution function\n",
        "\n",
        "def maxpooling(img, pool_height, pool_width):\n",
        "\n",
        "  # Set stride amounts\n",
        "  stride_y = pool_height\n",
        "  stride_x = pool_width\n",
        "\n",
        "  # Compute dimensions of output image\n",
        "  out_height = math.floor((img.shape[0] - kernel.shape[0]) / stride_y) + 1\n",
        "  out_width = math.floor((img.shape[1] - kernel.shape[1]) / stride_x) + 1\n",
        "  \n",
        "  # Create blank output image\n",
        "  pooled_img = np.zeros((out_height, out_width))\n",
        "\n",
        "  # >>> ENTER YOUR CODE HERE <<<\n",
        "  \n",
        "\n",
        "  # Round all elements, convert to integers, and clamp to values between 0 and 255\n",
        "  pooled_img = np.rint(pooled_img).astype(int)\n",
        "  pooled_img = np.clip(pooled_img, 0, 255)\n",
        "\n",
        "  return pooled_img"
      ],
      "execution_count": 8,
      "outputs": []
    },
    {
      "cell_type": "code",
      "metadata": {
        "id": "4M-Q5Wzl_LK4",
        "outputId": "20c170bb-e50e-4bd7-b7dc-adcda19b45de",
        "colab": {
          "base_uri": "https://localhost:8080/",
          "height": 302
        }
      },
      "source": [
        "### Test 1: Max pool original image with pool size of (2, 3)\n",
        "\n",
        "# Call your pooling function (with pool_size=(2, 3))\n",
        "out_img = maxpooling(img, 2, 3)\n",
        "\n",
        "# Show dimensions and view array as image\n",
        "print(out_img.shape)\n",
        "plt.imshow(out_img, cmap='gray', vmin=0, vmax=255)"
      ],
      "execution_count": 9,
      "outputs": [
        {
          "output_type": "stream",
          "name": "stdout",
          "text": [
            "(13, 9)\n"
          ]
        },
        {
          "output_type": "execute_result",
          "data": {
            "text/plain": [
              "<matplotlib.image.AxesImage at 0x7f4d43c7cdd0>"
            ]
          },
          "metadata": {},
          "execution_count": 9
        },
        {
          "output_type": "display_data",
          "data": {
            "image/png": "[encoded data removed]",
            "text/plain": [
              "<Figure size 432x288 with 1 Axes>"
            ]
          },
          "metadata": {
            "needs_background": "light"
          }
        }
      ]
    },
    {
      "cell_type": "code",
      "metadata": {
        "id": "-Wm4R5MS_obx",
        "outputId": "cff8f462-50f7-4adb-f29a-b6897886f74d",
        "colab": {
          "base_uri": "https://localhost:8080/",
          "height": 302
        }
      },
      "source": [
        "### Test 2: Detect edges and pool\n",
        "\n",
        "# Define kernel\n",
        "kernel = np.array([[-1, -1, -1],\n",
        "                   [-1, 8, -1],\n",
        "                   [-1, -1, -1]])\n",
        "\n",
        "# Call your convolve function (with a stride of 1)\n",
        "convolved_img = convolve(img, kernel, 1)\n",
        "\n",
        "# Call your pooling function (with pool_size=(2, 2))\n",
        "out_img = maxpooling(convolved_img, 2, 2)\n",
        "\n",
        "# Show dimensions and view array as image\n",
        "print(out_img.shape)\n",
        "plt.imshow(out_img, cmap='gray', vmin=0, vmax=255)"
      ],
      "execution_count": 10,
      "outputs": [
        {
          "output_type": "stream",
          "name": "stdout",
          "text": [
            "(12, 12)\n"
          ]
        },
        {
          "output_type": "execute_result",
          "data": {
            "text/plain": [
              "<matplotlib.image.AxesImage at 0x7f4d43be9a50>"
            ]
          },
          "metadata": {},
          "execution_count": 10
        },
        {
          "output_type": "display_data",
          "data": {
            "image/png": "[encoded data removed]",
            "text/plain": [
              "<Figure size 432x288 with 1 Axes>"
            ]
          },
          "metadata": {
            "needs_background": "light"
          }
        }
      ]
    },
    {
      "cell_type": "code",
      "metadata": {
        "id": "k2rg60rGAXOS"
      },
      "source": [
        ""
      ],
      "execution_count": null,
      "outputs": []
    }
  ]
}